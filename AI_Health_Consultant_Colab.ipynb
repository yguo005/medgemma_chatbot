{
  "cells": [
    {
      "cell_type": "code",
      "execution_count": null,
      "metadata": {
        "vscode": {
          "languageId": "plaintext"
        }
      },
      "outputs": [],
      "source": [
        "# 🏥 AI Health Consultant - Google Colab\n",
        "\n",
        "This notebook allows you to run the AI Health Consultant chatbot in Google Colab with GPU acceleration.\n",
        "\n",
        "[![Open In Colab](https://colab.research.google.com/assets/colab-badge.svg)](https://colab.research.google.com/github/your-username/AI_Doctor-main/blob/medgemma/AI_Health_Consultant_Colab.ipynb)\n"
      ]
    },
    {
      "cell_type": "code",
      "execution_count": null,
      "metadata": {
        "vscode": {
          "languageId": "plaintext"
        }
      },
      "outputs": [],
      "source": [
        "## 🚀 Setup and Installation\n"
      ]
    },
    {
      "cell_type": "code",
      "execution_count": null,
      "metadata": {},
      "outputs": [],
      "source": [
        "# Install required packages\n",
        "!pip install fastapi uvicorn python-multipart\n",
        "!pip install openai langchain langchain-openai\n",
        "!pip install faiss-cpu transformers torch\n",
        "!pip install nest-asyncio pyngrok\n",
        "\n",
        "# For MedGemma support (optional)\n",
        "!pip install accelerate bitsandbytes\n",
        "!pip install google-cloud-aiplatform\n"
      ]
    }
  ],
  "metadata": {
    "language_info": {
      "name": "python"
    }
  },
  "nbformat": 4,
  "nbformat_minor": 2
}
